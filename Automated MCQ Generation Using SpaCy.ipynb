{
 "cells": [
  {
   "cell_type": "markdown",
   "metadata": {},
   "source": [
    "# Automated Multiple-Choice Question Generation Using SpaCy"
   ]
  },
  {
   "cell_type": "markdown",
   "metadata": {},
   "source": [
    "### Introduction\n",
    "\n",
    "In this project, I developed a Python script that automates the generation of multiple-choice questions (MCQs) from textual content. Leveraging the power of natural language processing (NLP) with the spaCy library, the script processes input text to identify sentences and key terms such as nouns, proper nouns, adjectives, and numbers. These key terms are used to create fill-in-the-blank style questions.\n",
    "\n",
    "For each selected sentence, a key term is replaced with a blank, and a set of possible answers is generated. The correct answer is mixed with distractors, which are randomly selected from other key terms within the sentence. The script is designed to generate a customizable number of questions, making it a valuable tool for educators and content creators who need to quickly produce quiz questions from textual material."
   ]
  },
  {
   "cell_type": "markdown",
   "metadata": {},
   "source": [
    "### Applications\n",
    "\n",
    "1. **Educational Content Creation**: This project can be used by educators to quickly generate quiz questions from textbooks, articles, or any instructional content. This can save time and effort, allowing teachers to focus on other aspects of lesson planning.\n",
    "\n",
    "2. **E-Learning Platforms**: E-learning platforms can integrate this tool to automatically generate practice quizzes for students based on the learning material provided. This can enhance student engagement and retention by offering frequent assessments.\n",
    "\n",
    "3. **Corporate Training**: Companies can use this tool to create assessments for employee training programs. It can generate relevant questions from training manuals or policy documents, ensuring that employees retain key information.\n",
    "\n",
    "4. **Language Learning**: Language learning apps can use this tool to create exercises that test vocabulary and comprehension by generating questions from reading passages, helping learners to reinforce their understanding of new terms.\n",
    "\n",
    "5. **Test Preparation**: Publishers of test preparation materials can use this project to generate practice questions for standardized tests, enabling students to practice with fresh and varied questions drawn from study texts.\n",
    "\n",
    "6. **Content Review and Revision**: Authors and content creators can use this tool to generate questions from their drafts or research papers, helping them review key points and ensure the accuracy and clarity of their content.\n",
    "\n",
    "7. **Academic Research**: Researchers can use this tool to automatically generate questions from literature reviews or research papers, aiding in the creation of surveys or questionnaires for further studies.\n",
    "\n",
    "8. **Interactive Learning Tools**: Developers can integrate this project into interactive learning tools and educational games, where students can answer questions generated from reading materials, making learning more engaging and interactive.\n",
    "\n",
    "9. **Automated Exam Generation**: Institutions can use this project to assist in the automatic generation of exam papers, ensuring that questions are derived from the course material, and reducing the time needed for manual question creation.\n",
    "\n",
    "10. **Personalized Learning**: This tool can be used to create personalized quizzes based on the reading material that a student is struggling with, offering targeted practice to address specific weaknesses."
   ]
  },
  {
   "cell_type": "code",
   "execution_count": 21,
   "metadata": {
    "colab": {
     "base_uri": "https://localhost:8080/"
    },
    "id": "gA5yKpnxX68d",
    "outputId": "386ddea6-449c-4e5d-b8bb-c705dd49bac9"
   },
   "outputs": [
    {
     "name": "stdout",
     "output_type": "stream",
     "text": [
      "Q1: Cybersecurity is a __________ concern in today's digital age, with cyberattacks becoming increasingly sophisticated and widespread.\n",
      "A: digital\n",
      "B: critical\n",
      "C: today\n",
      "D: Cybersecurity\n",
      "Correct Answer: B\n",
      "\n",
      "Q2: One area where AI is making significant __________ is in natural language processing (NLP), allowing computers to understand and generate human language.\n",
      "A: language\n",
      "B: AI\n",
      "C: natural\n",
      "D: strides\n",
      "Correct Answer: D\n",
      "\n",
      "Q3: \n",
      "Artificial __________ (AI) is revolutionizing various industries by enabling machines to perform tasks that typically require human __________.\n",
      "A: industries\n",
      "B: intelligence\n",
      "C: tasks\n",
      "D: Artificial\n",
      "Correct Answer: B\n",
      "\n",
      "Q4: Quantum computing is an emerging field that leverages the principles of quantum mechanics to perform __________ at speeds far beyond traditional computers.\n",
      "A: calculations\n",
      "B: computing\n",
      "C: principles\n",
      "D: mechanics\n",
      "Correct Answer: A\n",
      "\n",
      "Q5: VR creates a fully immersive simulated environment, while AR overlays digital content onto the __________ world.\n",
      "A: real\n",
      "B: world\n",
      "C: environment\n",
      "D: digital\n",
      "Correct Answer: A\n",
      "\n",
      "Q6: IoT devices can include everyday objects like smart thermostats, wearable fitness trackers, and __________ machinery.\n",
      "A: objects\n",
      "B: smart\n",
      "C: devices\n",
      "D: industrial\n",
      "Correct Answer: D\n",
      "\n",
      "Q7: __________ computing has the potential to revolutionize fields such as cryptography, optimization, and drug discovery.\n",
      "\n",
      "A: computing\n",
      "B: Quantum\n",
      "C: such\n",
      "D: optimization\n",
      "Correct Answer: B\n",
      "\n",
      "Q8: This includes encryption, firewalls, intrusion detection systems, and regular security __________.\n",
      "\n",
      "\n",
      "A: firewalls\n",
      "B: systems\n",
      "C: audits\n",
      "D: encryption\n",
      "Correct Answer: C\n",
      "\n",
      "Q9: The Internet of __________ (IoT) refers to the network of interconnected devices embedded with sensors, software, and other technologies, enabling them to collect and exchange data.\n",
      "A: Internet\n",
      "B: IoT\n",
      "C: sensors\n",
      "D: Things\n",
      "Correct Answer: D\n",
      "\n",
      "Q10: Another emerging technology is blockchain, a decentralized __________ ledger that securely records transactions across a network of computers.\n",
      "A: ledger\n",
      "B: computers\n",
      "C: digital\n",
      "D: decentralized\n",
      "Correct Answer: C\n",
      "\n"
     ]
    }
   ],
   "source": [
    "import spacy\n",
    "from collections import Counter\n",
    "import random\n",
    "\n",
    "# Load spaCy model\n",
    "nlp = spacy.load(\"en_core_web_sm\")\n",
    "\n",
    "def generate_mcqs(text, num_questions=5):\n",
    "    # Process the text with spaCy\n",
    "    doc = nlp(text)\n",
    "    sentences = [sent.text for sent in doc.sents]\n",
    "    selected_sentences = random.sample(sentences, min(num_questions, len(sentences)))\n",
    "\n",
    "    mcqs = []\n",
    "\n",
    "    for sentence in selected_sentences:\n",
    "        # Use spaCy to extract nouns and other important words\n",
    "        sent_doc = nlp(sentence)\n",
    "        nouns = [token.text for token in sent_doc if token.pos_ in [\"NOUN\", \"PROPN\", \"ADJ\", \"NUM\"]]\n",
    "\n",
    "        # Only proceed if there are enough nouns or key terms\n",
    "        if len(nouns) < 2:\n",
    "            continue\n",
    "\n",
    "        # Select a key noun as the blank in the fill-in-the-blank question\n",
    "        subject = random.choice(nouns)\n",
    "        question_stem = sentence.replace(subject, \"__________\")\n",
    "\n",
    "        # Generate answer choices\n",
    "        answer_choices = [subject]\n",
    "        distractors = list(set(nouns) - set([subject]))\n",
    "\n",
    "        if len(distractors) >= 3:\n",
    "            answer_choices.extend(random.sample(distractors, 3))\n",
    "        else:\n",
    "            answer_choices.extend(distractors)\n",
    "\n",
    "        # Shuffle answer choices\n",
    "        random.shuffle(answer_choices)\n",
    "\n",
    "        # Identify the correct answer position\n",
    "        correct_answer = chr(64 + answer_choices.index(subject) + 1)\n",
    "\n",
    "        # Append to MCQ list\n",
    "        mcqs.append((question_stem, answer_choices, correct_answer))\n",
    "\n",
    "    return mcqs\n",
    "\n",
    "# Example usage\n",
    "if __name__ == \"__main__\":\n",
    "    text = \"\"\"\n",
    "Artificial intelligence (AI) is revolutionizing various industries by enabling machines to perform tasks that typically require human intelligence. One area where AI is making significant strides is in natural language processing (NLP), allowing computers to understand and generate human language. NLP applications range from virtual assistants like Siri and Alexa to sentiment analysis in social media.\n",
    "\n",
    "Another emerging technology is blockchain, a decentralized digital ledger that securely records transactions across a network of computers. Blockchain is best known as the technology behind cryptocurrencies like Bitcoin, but its potential extends far beyond digital currencies. It has applications in supply chain management, healthcare, and voting systems, among others.\n",
    "\n",
    "The Internet of Things (IoT) refers to the network of interconnected devices embedded with sensors, software, and other technologies, enabling them to collect and exchange data. IoT devices can include everyday objects like smart thermostats, wearable fitness trackers, and industrial machinery. The data generated by IoT devices can be analyzed to improve efficiency, monitor performance, and enhance user experience.\n",
    "\n",
    "Virtual reality (VR) and augmented reality (AR) are immersive technologies that blend the physical and digital worlds. VR creates a fully immersive simulated environment, while AR overlays digital content onto the real world. These technologies have applications in gaming, education, healthcare, and training, offering new ways to interact with digital content and experiences.\n",
    "\n",
    "Cybersecurity is a critical concern in today's digital age, with cyberattacks becoming increasingly sophisticated and widespread. Organizations must employ robust security measures to protect their data, networks, and systems from unauthorized access, malware, and other cyber threats. This includes encryption, firewalls, intrusion detection systems, and regular security audits.\n",
    "\n",
    "Quantum computing is an emerging field that leverages the principles of quantum mechanics to perform calculations at speeds far beyond traditional computers. Unlike classical bits, which can only exist in one state (0 or 1), quantum bits (qubits) can exist in multiple states simultaneously, allowing for parallel processing and exponential computational power. Quantum computing has the potential to revolutionize fields such as cryptography, optimization, and drug discovery.\n",
    "\"\"\"\n",
    "\n",
    "# Specify the number of questions to generate\n",
    "num_questions = 10\n",
    "\n",
    "# Generate the MCQs\n",
    "mcqs2 = generate_mcqs(text, num_questions=num_questions)\n",
    "\n",
    "# Print the generated MCQs\n",
    "for i, mcq in enumerate(mcqs2, start=1):\n",
    "    question_stem, answer_choices, correct_answer = mcq\n",
    "    print(f\"Q{i}: {question_stem}\")\n",
    "    for j, choice in enumerate(answer_choices, start=1):\n",
    "        print(f\"{chr(64+j)}: {choice}\")\n",
    "    print(f\"Correct Answer: {correct_answer}\\n\")\n",
    "\n"
   ]
  },
  {
   "cell_type": "markdown",
   "metadata": {},
   "source": [
    "This is another example, demonstrates how to generate multiple-choice questions (MCQs) from a different text about Isaac Newton. By specifying a text passage and the desired number of questions, the script processes the content to create fill-in-the-blank questions with corresponding answer choices. The output provides a set of questions based on key terms extracted from the text, helping to assess comprehension of the material. In this case, three MCQs are generated from the provided text on Newton's contributions to science."
   ]
  },
  {
   "cell_type": "code",
   "execution_count": 17,
   "metadata": {
    "colab": {
     "base_uri": "https://localhost:8080/"
    },
    "id": "HM0LrP4vEC7L",
    "outputId": "5d0908c9-ca51-44e7-a8ff-9c06002b2eb9"
   },
   "outputs": [
    {
     "name": "stdout",
     "output_type": "stream",
     "text": [
      "Q1: Isaac Newton was an English mathematician, physicist, astronomer, theologian, and author, \n",
      "           who is widely recognized as one of the __________ mathematicians and most influential scientists of all time. \n",
      "           \n",
      "A: influential\n",
      "B: mathematicians\n",
      "C: greatest\n",
      "D: physicist\n",
      "Correct Answer: C\n",
      "\n",
      "Q2: Newton also made seminal contributions to __________, \n",
      "           and he shares credit with Gottfried Wilhelm Leibniz for developing infinitesimal calculus.\n",
      "A: optics\n",
      "B: Newton\n",
      "C: calculus\n",
      "D: credit\n",
      "Correct Answer: A\n",
      "\n",
      "Q3: His book __________ Naturalis Principia Mathematica, often referred to as the Principia, \n",
      "           laid the foundations for classical mechanics.\n",
      "A: mechanics\n",
      "B: foundations\n",
      "C: Philosophiæ\n",
      "D: Mathematica\n",
      "Correct Answer: C\n",
      "\n"
     ]
    }
   ],
   "source": [
    "# Another example usage with different text\n",
    "text2 = \"\"\"Isaac Newton was an English mathematician, physicist, astronomer, theologian, and author,\n",
    "           who is widely recognized as one of the greatest mathematicians and most influential scientists of all time.\n",
    "           His book Philosophiæ Naturalis Principia Mathematica, often referred to as the Principia,\n",
    "           laid the foundations for classical mechanics. Newton also made seminal contributions to optics,\n",
    "           and he shares credit with Gottfried Wilhelm Leibniz for developing infinitesimal calculus.\"\"\"\n",
    "\n",
    "# Specify the number of questions to generate\n",
    "num_questions = 3\n",
    "\n",
    "# Generate the MCQs\n",
    "mcqs2 = generate_mcqs(text2, num_questions=num_questions)\n",
    "\n",
    "# Print the generated MCQs\n",
    "for i, mcq in enumerate(mcqs2, start=1):\n",
    "    question_stem, answer_choices, correct_answer = mcq\n",
    "    print(f\"Q{i}: {question_stem}\")\n",
    "    for j, choice in enumerate(answer_choices, start=1):\n",
    "        print(f\"{chr(64+j)}: {choice}\")\n",
    "    print(f\"Correct Answer: {correct_answer}\\n\")\n",
    "\n"
   ]
  },
  {
   "cell_type": "markdown",
   "metadata": {},
   "source": [
    "Though this model is primarily designed for English texts, it can still effectively generate multiple-choice questions (MCQs) from Bengali texts, provided that the input is written in Unicode. Unicode is a standardized encoding system that enables consistent representation of text across different languages and scripts, ensuring that characters from various languages, including Bengali, are correctly processed by the model. \n",
    "\n",
    "This example demonstrates how the script can generate MCQs from a Bengali passage. By specifying the text and the number of desired questions, the script processes the content, identifying key terms even in Bengali, to create fill-in-the-blank questions. In this case, two MCQs are generated from the provided Bengali text, showcasing the model's versatility in handling different languages when they are encoded in Unicode."
   ]
  },
  {
   "cell_type": "code",
   "execution_count": 37,
   "metadata": {
    "colab": {
     "base_uri": "https://localhost:8080/"
    },
    "id": "yTBUFZnCkR8Z",
    "outputId": "ba412147-0d2e-4288-f298-820ac50f2b41"
   },
   "outputs": [
    {
     "name": "stdout",
     "output_type": "stream",
     "text": [
      "Q1: যে ঈশ্বর _______ ও পার্থিব জীবনকে সুখ সৌন্দর্য সৌভাগ্য সম্পদ স্নেহে প্রেমে ভরিয়ে দিয়েছেন তিনি আবার দিয়েছেন দুঃখ দারিদ্র্য ব্যাধি মৃত্যুর যন্ত্রনা।\n",
      "A: সুখ\n",
      "B: সৌভাগ্য\n",
      "C: যন্ত্রনা\n",
      "D: পৃথিবী\n",
      "Correct Answer: D\n",
      "\n",
      "Q2: _______ জীবনে বিজ্ঞানের যেন এই দৈত্য রূপ তার একহাতে বরাভয় অন্য হাতে অসি।\n",
      "A: জীবনে\n",
      "B: এই\n",
      "C: মানুষের\n",
      "D: বরাভয়\n",
      "Correct Answer: C\n",
      "\n"
     ]
    }
   ],
   "source": [
    "# Another example usage with a different text and a specified number of questions\n",
    "text3 = \"\"\"বিজ্ঞান ও মানব সভ্যতার সত্যকার স্বরূপটি চিন্তা করলে কবি প্রেমেন্দ্র মিত্রের উদ্ধৃত কবিতাংশটির কথা প্রায়ই মনে আসে।\n",
    "যে ঈশ্বর পৃথিবী ও পার্থিব জীবনকে সুখ সৌন্দর্য সৌভাগ্য সম্পদ স্নেহে প্রেমে ভরিয়ে দিয়েছেন তিনি আবার দিয়েছেন দুঃখ দারিদ্র্য ব্যাধি মৃত্যুর যন্ত্রনা।\n",
    "মানুষের জীবনে বিজ্ঞানের যেন এই দৈত্য রূপ তার একহাতে বরাভয় অন্য হাতে অসি। সভ্যতার আদি লগ্নে খাদ্য ও আশ্রয়ের সন্ধানে যাযাবর মানুষ ছিল প্রকৃতির কাছে অসহায়।\n",
    "তারপর মানুষ তার শাণিত বুদ্ধি ও বিপুল সিজন প্রতিভার বলে প্রকৃতিকে জয় করেছে। শ্বাপদ সংকুল অরণ্যভূমি হয়ে উঠেছে তার সুষম বাসভূমি।\"\"\"\n",
    "# Specify the number of questions to generate\n",
    "num_questions = 2\n",
    "\n",
    "# Generate the MCQs\n",
    "mcqs3 = generate_mcqs(text3, num_questions=num_questions)\n",
    "\n",
    "# Print the generated MCQs\n",
    "for i, mcq in enumerate(mcqs3, start=1):\n",
    "    question_stem, answer_choices, correct_answer = mcq\n",
    "    print(f\"Q{i}: {question_stem}\")\n",
    "    for j, choice in enumerate(answer_choices, start=1):\n",
    "        print(f\"{chr(64+j)}: {choice}\")\n",
    "    print(f\"Correct Answer: {correct_answer}\\n\")\n"
   ]
  },
  {
   "cell_type": "markdown",
   "metadata": {
    "id": "_PatbcYTqq35"
   },
   "source": [
    "### Conclusion\r\n",
    "\r\n",
    "This project showcases the power of natural language processing in automating the generation of multiple-choice questions (MCQs) from text. By leveraging the spaCy library, the script efficiently processes text, identifies key terms, and generates fill-in-the-blank style questions with corresponding answer choices. This automation not only saves time for educators, content creators, and developers but also ensures a consistent and scalable approach to creating assessments across various domains.\r\n",
    "\r\n",
    "The project’s flexibility is further demonstrated by its ability to handle different languages, such as Bengali, when the input is encoded in Unicode. This expands its potential applications beyond English, making it a valuable tool for global educational and content delivery platforms. Overall, the project represents a significant step towards integrating NLP techniques into practical, real-world applications, offering an innovative solution for generating educational content efficiently and effectively."
   ]
  },
  {
   "cell_type": "markdown",
   "metadata": {
    "id": "2TaieL2g27cp"
   },
   "source": [
    "Author - *Rajarshi Das*"
   ]
  },
  {
   "cell_type": "code",
   "execution_count": null,
   "metadata": {},
   "outputs": [],
   "source": []
  }
 ],
 "metadata": {
  "colab": {
   "provenance": []
  },
  "kernelspec": {
   "display_name": "Python 3 (ipykernel)",
   "language": "python",
   "name": "python3"
  },
  "language_info": {
   "codemirror_mode": {
    "name": "ipython",
    "version": 3
   },
   "file_extension": ".py",
   "mimetype": "text/x-python",
   "name": "python",
   "nbconvert_exporter": "python",
   "pygments_lexer": "ipython3",
   "version": "3.9.19"
  }
 },
 "nbformat": 4,
 "nbformat_minor": 4
}
